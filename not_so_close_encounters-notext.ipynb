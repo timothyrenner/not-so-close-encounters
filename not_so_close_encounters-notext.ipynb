{
 "cells": [
  {
   "cell_type": "code",
   "execution_count": null,
   "metadata": {
    "collapsed": true
   },
   "outputs": [],
   "source": [
    "import datadotworld"
   ]
  },
  {
   "cell_type": "code",
   "execution_count": null,
   "metadata": {},
   "outputs": [],
   "source": [
    "ufo_sightings_dataset = datadotworld.load_dataset(\n",
    "    'timothyrenner/ufo-sightings'\n",
    ")\n",
    "\n",
    "ufo_sightings = \\\n",
    "    ufo_sightings_dataset\\\n",
    "        .dataframes['nuforc_reports']\\\n",
    "        .rename(columns={\"shape\": \"reported_shape\"})\\\n",
    "        .drop('city_location', axis=1)\n",
    "\n",
    "ufo_sightings.head()"
   ]
  },
  {
   "cell_type": "code",
   "execution_count": null,
   "metadata": {
    "collapsed": true
   },
   "outputs": [],
   "source": [
    "non_coded_reports = ufo_sightings.city_longitude.isnull()\n",
    "ufo_sightings = ufo_sightings.loc[~non_coded_reports,:]"
   ]
  },
  {
   "cell_type": "code",
   "execution_count": null,
   "metadata": {
    "collapsed": true
   },
   "outputs": [],
   "source": [
    "import numpy as np\n",
    "\n",
    "EARTH_RADIUS = 6371.0\n",
    "std_dev_km = 5.0\n",
    "num_sightings = ufo_sightings.shape[0]\n",
    "\n",
    "# Jitter the latitudes and longitudes with a random normal with standard deviations at 5 kilometers.\n",
    "# This is definitely _not_ the most studious way to perform the jitter because the standard deviation\n",
    "# has a systematic bias due to the coordinate system, but it's not the worst thing in the world.\n",
    "ufo_sightings.loc[:,'latitude'] = np.random.normal(\n",
    "    ufo_sightings.loc[:,'city_latitude'], \n",
    "    std_dev_km / EARTH_RADIUS, \n",
    "    num_sightings\n",
    ")\n",
    "ufo_sightings.loc[:,'longitude'] = np.random.normal(\n",
    "    ufo_sightings.loc[:,'city_longitude'],\n",
    "    std_dev_km / EARTH_RADIUS,\n",
    "    num_sightings\n",
    ")"
   ]
  },
  {
   "cell_type": "code",
   "execution_count": null,
   "metadata": {
    "collapsed": true
   },
   "outputs": [],
   "source": [
    "import geopandas as gpd\n",
    "from shapely.geometry import MultiPoint\n",
    "\n",
    "# Convert the sightings to a geo data frame.\n",
    "ufo_sightings_geo = gpd.GeoDataFrame(\n",
    "    ufo_sightings,\n",
    "    geometry=list(MultiPoint(ufo_sightings.loc[:,['longitude','latitude']].values)),\n",
    "    crs={\"init\": \"EPSG:4326\"}\n",
    ")\n",
    "\n",
    "usa = gpd.read_file('data/external/cb_2016_us_state_500k.shp')\n",
    "# Remove non-continental US states.\n",
    "usa = usa[~usa.STUSPS.isin(['VI', 'AK', 'HI', 'PR', 'GU', 'MP', 'AS'])]\n",
    "sightings_conus = ufo_sightings_geo.state.isin(usa.STUSPS)\n",
    "\n",
    "ufo_sightings_geo = ufo_sightings_geo.loc[sightings_conus,:]"
   ]
  },
  {
   "cell_type": "code",
   "execution_count": null,
   "metadata": {
    "collapsed": true
   },
   "outputs": [],
   "source": [
    "import geoplot as gplt\n",
    "import matplotlib.pyplot as plt\n",
    "%matplotlib inline"
   ]
  },
  {
   "cell_type": "code",
   "execution_count": null,
   "metadata": {},
   "outputs": [],
   "source": [
    "# Albers Equal Area is pretty standard for US projections.\n",
    "proj = gplt.crs.AlbersEqualArea(central_longitude=-98, central_latitude=39.5)\n",
    "\n",
    "# For some weirdo reason I have to set the ylim manually.\n",
    "# Reference: http://www.residentmar.io/geoplot/examples/usa-city-elevations.html\n",
    "ylim = (-1647757.3894385984, 1457718.4893930717)\n",
    "\n",
    "fig,ax = plt.subplots(subplot_kw={'projection':proj}, figsize=(16,12))\n",
    "gplt.polyplot(usa, projection=proj,\n",
    "                   ax=ax,\n",
    "                   linewidth=0.5,\n",
    "                   facecolor='lightgray',\n",
    "                   alpha=0.1)\n",
    "gplt.pointplot(ufo_sightings_geo, \n",
    "               ax=ax, \n",
    "               projection=proj, \n",
    "               s=0.75,\n",
    "               alpha=0.25,\n",
    "               legend=True,\n",
    "               legend_values=[0, 10, 100, 1000],\n",
    "               legend_kwargs={'loc':'lower right'})\n",
    "ax.set_ylim(ylim)\n",
    "ax.set_title(\"UFO Sightings in the United States\")\n",
    "plt.show()"
   ]
  },
  {
   "cell_type": "code",
   "execution_count": null,
   "metadata": {
    "collapsed": true
   },
   "outputs": [],
   "source": [
    "import pandas as pd\n",
    "bases = pd.read_csv('data/external/military_bases.csv')\n",
    "\n",
    "air_force_bases = \\\n",
    "    bases[bases.branch == 'Air Force']\\\n",
    "    [['branch','latitude','longitude']]\\\n",
    "    .drop_duplicates()\\\n",
    "    .reset_index()\\\n",
    "    .drop('index',axis=1)"
   ]
  },
  {
   "cell_type": "code",
   "execution_count": null,
   "metadata": {
    "collapsed": true
   },
   "outputs": [],
   "source": [
    "import pyproj\n",
    "from toolz import curry\n",
    "from shapely.ops import transform\n",
    "\n",
    "# In order to draw a buffer properly I'll need to apply a map projection.\n",
    "# This is because, unfortunately, the earth isn't flat.\n",
    "# OR - if it is - we're doing \"meters\" wrong.\n",
    "def geographic_buffer(geometry, distance):\n",
    "    \n",
    "    # In general picking a map projection amounts to picking the least worst solution.\n",
    "    # One fairly standard approach is to perform a universal transverse mercator (UTM)\n",
    "    # projection. The standard definition divides these into zones, but it's easy to\n",
    "    # recenter the central meridian at the centroid of the geometry (in this case the\n",
    "    # AF base) and perform the projection there to minimize distance distortion.\n",
    "    # The lon_0 keyword argument sets the central meridian. Note longitude is x.\n",
    "    utm = pyproj.Proj(\n",
    "        proj='utm',\n",
    "        ellps='WGS84',\n",
    "        lon_0=geometry.centroid.x\n",
    "    )\n",
    "    lonlat = pyproj.Proj(init='EPSG:4326')\n",
    "    \n",
    "    utm2lonlat = curry(pyproj.transform)(utm,lonlat)\n",
    "    lonlat2utm = curry(pyproj.transform)(lonlat,utm)\n",
    "    \n",
    "    # First, put the geometry into UTM.\n",
    "    geometry_utm = transform(lonlat2utm, geometry)\n",
    "    # Draw the buffer in UTM coordinates, with meters as the units.\n",
    "    geometry_utm_buffered = geometry_utm.buffer(distance*1000)\n",
    "    # Transform back into lon/lat.\n",
    "    geometry_buffered = transform(utm2lonlat, geometry_utm_buffered)\n",
    "    \n",
    "    return geometry_buffered\n",
    "    "
   ]
  },
  {
   "cell_type": "code",
   "execution_count": null,
   "metadata": {
    "collapsed": true
   },
   "outputs": [],
   "source": [
    "from shapely.geometry import Point\n",
    "\n",
    "air_force_base_vicinities = [\n",
    "    geographic_buffer(Point(row.longitude, row.latitude), 150.0)\n",
    "    for _,row in air_force_bases.iterrows()\n",
    "]\n",
    "\n",
    "air_force_bases_geo = gpd.GeoDataFrame(\n",
    "    air_force_bases,\n",
    "    geometry=air_force_base_vicinities,\n",
    "    crs={\"init\": \"EPSG:4326\"}\n",
    ")\n",
    "\n",
    "# Isolate the rows that are inside the continental US.\n",
    "air_force_bases_geo = \\\n",
    "    air_force_bases_geo[\n",
    "        air_force_bases_geo.intersects(usa.geometry.cascaded_union)\n",
    "    ]"
   ]
  },
  {
   "cell_type": "code",
   "execution_count": null,
   "metadata": {},
   "outputs": [],
   "source": [
    "# Albers Equal Area is pretty standard for US projections.\n",
    "proj = gplt.crs.AlbersEqualArea(central_longitude=-98, central_latitude=39.5)\n",
    "\n",
    "# For some weirdo reason I have to set the ylim manually.\n",
    "# Reference: http://www.residentmar.io/geoplot/examples/usa-city-elevations.html\n",
    "fig,ax = plt.subplots(subplot_kw={'projection':proj}, figsize=(16,12))\n",
    "\n",
    "ylim = (-1647757.3894385984, 1457718.4893930717)\n",
    "gplt.polyplot(\n",
    "    usa, \n",
    "    projection=proj,\n",
    "    ax=ax,\n",
    "    linewidth=0.5,\n",
    "    facecolor='lightgray',\n",
    "    alpha=0.1\n",
    ")\n",
    "gplt.pointplot(\n",
    "    ufo_sightings_geo, \n",
    "    ax=ax, \n",
    "    projection=proj, \n",
    "    s=0.75,\n",
    "    alpha=0.5\n",
    ")\n",
    "gplt.polyplot(\n",
    "    air_force_bases_geo,\n",
    "    ax=ax, \n",
    "    projection=proj, \n",
    "    linewidth=0.5,\n",
    "    facecolor='none',\n",
    "    edgecolor='red'\n",
    ")\n",
    "ax.set_ylim(ylim)\n",
    "ax.set_title(\"UFO Sightings in the United States\")\n",
    "plt.show()"
   ]
  },
  {
   "cell_type": "code",
   "execution_count": null,
   "metadata": {},
   "outputs": [],
   "source": [
    "sightings_near_air_force_bases = ufo_sightings_geo.intersects(air_force_bases_geo.geometry.cascaded_union)\n",
    "\n",
    "print(\n",
    "    \"{:.4f}\".format(\n",
    "        ufo_sightings_geo[sightings_near_air_force_bases].shape[0] / ufo_sightings_geo.shape[0]\n",
    "    )\n",
    ")"
   ]
  },
  {
   "cell_type": "code",
   "execution_count": null,
   "metadata": {
    "collapsed": true
   },
   "outputs": [],
   "source": [
    "# Add the date of the sighting.\n",
    "ufo_sightings_geo.loc[:,'date'] = \\\n",
    "    gpd.pd.to_datetime(ufo_sightings_geo.date_time).dt.to_period(\"D\")\n",
    "\n",
    "sightings_by_day = \\\n",
    "    ufo_sightings_geo\\\n",
    "        .groupby('date')\\\n",
    "        .agg({'report_link':'count'})\\\n",
    "        .rename(columns={'report_link':'report_count'})\n",
    "\n",
    "sightings_by_day.loc[:,'day_of_year'] = sightings_by_day.index.dayofyear\n",
    "\n",
    "sightings_by_day_of_year = \\\n",
    "    sightings_by_day\\\n",
    "        .groupby('day_of_year')\\\n",
    "        .agg({'report_count':'sum'})\\\n",
    "        .reset_index()"
   ]
  },
  {
   "cell_type": "code",
   "execution_count": null,
   "metadata": {},
   "outputs": [],
   "source": [
    "import seaborn as sns\n",
    "\n",
    "sns.set_style('darkgrid')\n",
    "sns.set_context(\"notebook\")\n",
    "\n",
    "fig,ax = plt.subplots(figsize=(15,9))\n",
    "\n",
    "ax.plot(\n",
    "    sightings_by_day_of_year.day_of_year.values,\n",
    "    sightings_by_day_of_year.report_count\n",
    ")\n",
    "\n",
    "ax.set_title(\n",
    "    \"UFO Sightings by Day of Year\", \n",
    "    fontsize=20, \n",
    "    fontweight=\"bold\"\n",
    ")\n",
    "ax.set_xlabel(\n",
    "    \"Day of Year\",\n",
    "    fontsize=18\n",
    ")\n",
    "ax.set_ylabel(\n",
    "    \"Number of UFO Sightings\",\n",
    "    fontsize=18\n",
    ")\n",
    "\n",
    "ax.annotate(\n",
    "    \"Guess what day this is.\",\n",
    "    xy=(185, 1353),\n",
    "    xytext=(215, 1353),\n",
    "    arrowprops={\n",
    "        \"facecolor\": \"black\",\n",
    "        \"shrink\": 0.15\n",
    "    },\n",
    "    verticalalignment=\"center\",\n",
    "    fontsize=15,\n",
    "    fontweight=\"bold\"\n",
    ")\n",
    "\n",
    "ax.tick_params(labelsize=12, which='both')\n",
    "\n",
    "plt.show()"
   ]
  },
  {
   "cell_type": "code",
   "execution_count": null,
   "metadata": {
    "collapsed": true
   },
   "outputs": [],
   "source": [
    "import hdbscan\n",
    "\n",
    "ufo_sighting_coordinates = np.radians(ufo_sightings_geo.loc[:,['latitude', 'longitude']].values)\n",
    "\n",
    "clusterer = hdbscan.HDBSCAN(\n",
    "    min_cluster_size=50, \n",
    "    min_samples=1,\n",
    "    metric=\"haversine\", \n",
    "    cluster_selection_method='leaf'\n",
    ")\n",
    "\n",
    "# This will take a while.\n",
    "ufo_sightings_geo.loc[:,'cluster_label'] = clusterer.fit_predict(ufo_sighting_coordinates)"
   ]
  },
  {
   "cell_type": "code",
   "execution_count": null,
   "metadata": {},
   "outputs": [],
   "source": [
    "print(\"Total number of clusters: {}.\".format(ufo_sightings_geo.cluster_label.max()))"
   ]
  },
  {
   "cell_type": "code",
   "execution_count": null,
   "metadata": {
    "collapsed": true
   },
   "outputs": [],
   "source": [
    "cluster_polygons = \\\n",
    "    [\n",
    "        MultiPoint(group.loc[:,['longitude', 'latitude']].values).convex_hull\n",
    "        for label,group in ufo_sightings_geo.groupby('cluster_label')\n",
    "        if label != -1\n",
    "    ]"
   ]
  },
  {
   "cell_type": "code",
   "execution_count": null,
   "metadata": {
    "collapsed": true,
    "scrolled": false
   },
   "outputs": [],
   "source": [
    "# Albers Equal Area is pretty standard for US projections.\n",
    "proj = gplt.crs.AlbersEqualArea(central_longitude=-98, central_latitude=39.5)\n",
    "\n",
    "# For some weirdo reason I have to set the ylim manually.\n",
    "# Reference: http://www.residentmar.io/geoplot/examples/usa-city-elevations.html\n",
    "fig,ax = plt.subplots(subplot_kw={'projection':proj}, figsize=(16,12))\n",
    "\n",
    "ylim = (-1647757.3894385984, 1457718.4893930717)\n",
    "gplt.polyplot(\n",
    "    usa, \n",
    "    projection=proj,\n",
    "    ax=ax,\n",
    "    linewidth=0.5,\n",
    "    facecolor='lightgray',\n",
    "    alpha=0.1\n",
    ")\n",
    "gplt.polyplot(\n",
    "    gpd.GeoSeries(\n",
    "        [p for p in cluster_polygons if p.type == \"Polygon\"], \n",
    "        crs={\"init\": \"EPSG:4326\"}\n",
    "    ),\n",
    "    ax=ax,\n",
    "    projection=proj,\n",
    "    linewidth=0.5,\n",
    "    facecolor='red',\n",
    "    alpha=0.3\n",
    ")\n",
    "gplt.pointplot(\n",
    "    ufo_sightings_geo, \n",
    "    ax=ax, \n",
    "    projection=proj, \n",
    "    s=0.75,\n",
    "    alpha=0.5\n",
    ")\n",
    "ax.set_ylim(ylim)\n",
    "ax.set_title(\"UFO Sightings in the United States\")\n",
    "plt.show()"
   ]
  },
  {
   "cell_type": "code",
   "execution_count": null,
   "metadata": {
    "collapsed": true
   },
   "outputs": [],
   "source": [
    "import rtree\n",
    "\n",
    "def cluster_polygon_loader(polygons):\n",
    "    for ii,polygon in enumerate(polygons):\n",
    "        yield (ii, polygon.bounds, ii)\n",
    "\n",
    "polygon_index = rtree.index.Index(\n",
    "    cluster_polygon_loader(cluster_polygons)\n",
    ")"
   ]
  },
  {
   "cell_type": "code",
   "execution_count": null,
   "metadata": {
    "collapsed": true
   },
   "outputs": [],
   "source": [
    "def nearest_cluster(lon,lat):\n",
    "    return list(polygon_index.nearest((lon,lat)*2, 1))[0]\n",
    "\n",
    "ufo_sightings_geo.loc[:,'cluster_label_neighbor'] = np.array([\n",
    "    nearest_cluster(row.longitude, row.latitude) \n",
    "    for _,row in ufo_sightings_geo.iterrows()\n",
    "])"
   ]
  },
  {
   "cell_type": "code",
   "execution_count": null,
   "metadata": {
    "collapsed": true
   },
   "outputs": [],
   "source": [
    "cluster_polygons_neighbors = \\\n",
    "    [\n",
    "        MultiPoint(group.loc[:,['longitude', 'latitude']].values).convex_hull\n",
    "        for label,group in ufo_sightings_geo.groupby('cluster_label_neighbor')\n",
    "        if label != -1\n",
    "    ]"
   ]
  },
  {
   "cell_type": "code",
   "execution_count": null,
   "metadata": {
    "collapsed": true
   },
   "outputs": [],
   "source": [
    "# Albers Equal Area is pretty standard for US projections.\n",
    "proj = gplt.crs.AlbersEqualArea(central_longitude=-98, central_latitude=39.5)\n",
    "\n",
    "# For some weirdo reason I have to set the ylim manually.\n",
    "# Reference: http://www.residentmar.io/geoplot/examples/usa-city-elevations.html\n",
    "fig,ax = plt.subplots(subplot_kw={'projection':proj}, figsize=(16,12))\n",
    "\n",
    "ylim = (-1647757.3894385984, 1457718.4893930717)\n",
    "gplt.polyplot(\n",
    "    usa, \n",
    "    projection=proj,\n",
    "    ax=ax,\n",
    "    linewidth=0.5,\n",
    "    facecolor='lightgray',\n",
    "    alpha=0.1\n",
    ")\n",
    "gplt.polyplot(\n",
    "    gpd.GeoSeries(\n",
    "        [p for p in cluster_polygons_neighbors \n",
    "           if p.type == \"Polygon\"], \n",
    "        crs={\"init\": \"EPSG:4326\"}\n",
    "    ).intersection(\n",
    "        usa.geometry.cascaded_union\n",
    "    ),\n",
    "    ax=ax,\n",
    "    projection=proj,\n",
    "    linewidth=0.5,\n",
    "    facecolor='red',\n",
    "    alpha=0.3\n",
    ")\n",
    "gplt.pointplot(\n",
    "    ufo_sightings_geo, \n",
    "    ax=ax, \n",
    "    projection=proj, \n",
    "    s=0.75,\n",
    "    alpha=0.5\n",
    ")\n",
    "ax.set_ylim(ylim)\n",
    "ax.set_title(\"UFO Sightings in the United States\")\n",
    "plt.show()"
   ]
  },
  {
   "cell_type": "markdown",
   "metadata": {},
   "source": [
    "The next step is to group the sightings by the clusters.\n",
    "Then we'll be able to see which clusters contain multiple sightings on the same day."
   ]
  },
  {
   "cell_type": "code",
   "execution_count": null,
   "metadata": {
    "collapsed": true
   },
   "outputs": [],
   "source": [
    "non_outlier_sightings = ufo_sightings_geo.cluster_label != -1\n",
    "\n",
    "same_day_cluster_sightings = gpd.pd.concat(\n",
    "    [    \n",
    "        cluster_sightings\\\n",
    "            .groupby(['cluster_label','date'])\\\n",
    "            .agg({'report_link':'count'})\\\n",
    "            .reset_index()\\\n",
    "            .rename(columns={'report_link':'report_count'})\\\n",
    "            .query('report_count>1')\n",
    "        for cluster_label, cluster_sightings \n",
    "        in ufo_sightings_geo[non_outlier_sightings].groupby('cluster_label')\n",
    "    ]\n",
    ").sort_values('report_count', ascending=False)\n",
    "\n",
    "same_day_cluster_sightings.head(n=10)"
   ]
  },
  {
   "cell_type": "code",
   "execution_count": null,
   "metadata": {
    "collapsed": true,
    "scrolled": true
   },
   "outputs": [],
   "source": [
    "same_day = ufo_sightings_geo.date == same_day_cluster_sightings.iloc[0].date\n",
    "same_cluster = ufo_sightings_geo.cluster_label == same_day_cluster_sightings.iloc[0].cluster_label\n",
    "for _,row in ufo_sightings_geo[same_day & same_cluster].iloc[:10,].iterrows():\n",
    "    print(\"{}, {} {}\".format(row.city, row.state, row.date))\n",
    "    print(row.text)\n",
    "    print()"
   ]
  },
  {
   "cell_type": "markdown",
   "metadata": {},
   "source": [
    "\"Alright Frohike hit me again.\" - you got it Dr. Scully."
   ]
  },
  {
   "cell_type": "code",
   "execution_count": null,
   "metadata": {
    "collapsed": true
   },
   "outputs": [],
   "source": [
    "same_day = ufo_sightings_geo.date == same_day_cluster_sightings.iloc[2].date\n",
    "same_cluster = ufo_sightings_geo.cluster_label == same_day_cluster_sightings.iloc[2].cluster_label\n",
    "for _,row in ufo_sightings_geo[same_day & same_cluster].iloc[:10,].iterrows():\n",
    "    print(\"{}, {} {}\".format(row.city, row.state, row.date))\n",
    "    print(row.text)\n",
    "    print()"
   ]
  },
  {
   "cell_type": "code",
   "execution_count": null,
   "metadata": {
    "collapsed": true,
    "scrolled": true
   },
   "outputs": [],
   "source": [
    "same_day = pd.PeriodIndex(ufo_sightings_geo.date) == pd.to_datetime('1997-03-13')\n",
    "same_city = ufo_sightings_geo.city == \"Phoenix\"\n",
    "\n",
    "for _,row in ufo_sightings_geo[same_day & same_city].iloc[:10,].iterrows():\n",
    "    print(\"{}, {} {}\".format(row.city, row.state, row.date))\n",
    "    print(row.text)\n",
    "    print()"
   ]
  }
 ],
 "metadata": {
  "kernelspec": {
   "display_name": "Python 3",
   "language": "python",
   "name": "python3"
  },
  "language_info": {
   "codemirror_mode": {
    "name": "ipython",
    "version": 3
   },
   "file_extension": ".py",
   "mimetype": "text/x-python",
   "name": "python",
   "nbconvert_exporter": "python",
   "pygments_lexer": "ipython3",
   "version": "3.5.4"
  }
 },
 "nbformat": 4,
 "nbformat_minor": 2
}
